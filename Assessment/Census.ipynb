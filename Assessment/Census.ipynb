{
 "cells": [
  {
   "cell_type": "code",
   "execution_count": 3,
   "id": "3707d031",
   "metadata": {},
   "outputs": [],
   "source": [
    "from sqlalchemy import create_engine\n",
    "import pandas as pd\n",
    "from sqlalchemy.orm import Session\n",
    "\n",
    "# Path to sqlite, THIS MAY NOT MATCH YOUR PATH\n",
    "database_path = \"C://Users\\Sydney Kieswetter\\Class\\surfs_up\\Assessment\\Census_Data.sqlite\"\n",
    "\n",
    "# Create an engine that can talk to the database\n",
    "engine = create_engine(f\"sqlite:///{database_path}\")\n",
    "conn = engine.connect()"
   ]
  },
  {
   "cell_type": "code",
   "execution_count": 4,
   "id": "f6de5e1c",
   "metadata": {},
   "outputs": [],
   "source": [
    "session = Session(conn)"
   ]
  },
  {
   "cell_type": "code",
   "execution_count": null,
   "id": "2d73031d",
   "metadata": {},
   "outputs": [],
   "source": []
  }
 ],
 "metadata": {
  "kernelspec": {
   "display_name": "Python 3",
   "language": "python",
   "name": "python3"
  },
  "language_info": {
   "codemirror_mode": {
    "name": "ipython",
    "version": 3
   },
   "file_extension": ".py",
   "mimetype": "text/x-python",
   "name": "python",
   "nbconvert_exporter": "python",
   "pygments_lexer": "ipython3",
   "version": "3.8.8"
  }
 },
 "nbformat": 4,
 "nbformat_minor": 5
}
